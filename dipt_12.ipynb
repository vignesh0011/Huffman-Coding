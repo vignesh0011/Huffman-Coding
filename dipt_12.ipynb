{
  "nbformat": 4,
  "nbformat_minor": 0,
  "metadata": {
    "colab": {
      "provenance": [],
      "authorship_tag": "ABX9TyNqJmD+dTBNWCAY+dP+SAWq",
      "include_colab_link": true
    },
    "kernelspec": {
      "name": "python3",
      "display_name": "Python 3"
    },
    "language_info": {
      "name": "python"
    }
  },
  "cells": [
    {
      "cell_type": "markdown",
      "metadata": {
        "id": "view-in-github",
        "colab_type": "text"
      },
      "source": [
        "<a href=\"https://colab.research.google.com/github/vignesh0011/Huffman-Coding/blob/main/dipt_12.ipynb\" target=\"_parent\"><img src=\"https://colab.research.google.com/assets/colab-badge.svg\" alt=\"Open In Colab\"/></a>"
      ]
    },
    {
      "cell_type": "code",
      "execution_count": null,
      "metadata": {
        "id": "5NARFuy8Qksz"
      },
      "outputs": [],
      "source": [
        "string = 'vignesh 212220233002'\n",
        "class NodeTree(object):\n",
        "    def __init__(self, left=None, right=None): \n",
        "        self.left = left\n",
        "        self.right=right\n",
        "    def children(self):\n",
        "        return (self.left,self.right)\n",
        "    def nodes (self):\n",
        "        return (self.left,self.right)\n",
        "    def __str__(self):\n",
        "        return '%s %s' %(self.left,self.right)"
      ]
    },
    {
      "cell_type": "code",
      "source": [
        "def huffman_code_tree (node, left=True, binString=''):\n",
        "    if type(node) is str:\n",
        "        return {node: binString}\n",
        "    (l, r) = node.children()\n",
        "    d = dict()\n",
        "    d.update(huffman_code_tree (l, True, binString + '0'))\n",
        "    d.update(huffman_code_tree (r, False, binString + '1'))\n",
        "    return d"
      ],
      "metadata": {
        "id": "rHxP8KrqQ3NM"
      },
      "execution_count": null,
      "outputs": []
    },
    {
      "cell_type": "code",
      "source": [
        "freq = {}\n",
        "for c in string:\n",
        "    if c in freq:\n",
        "        freq[c] += 1\n",
        "    else:\n",
        "        freq[c] = 1\n",
        "freq = sorted(freq.items(), key=lambda x: x[1], reverse=True)\n",
        "nodes=freq"
      ],
      "metadata": {
        "id": "FOnD7-YZQ3Ym"
      },
      "execution_count": null,
      "outputs": []
    },
    {
      "cell_type": "code",
      "source": [
        "while len(nodes)>1:\n",
        "    (key1,c1)=nodes[-1]\n",
        "    (key2,c2)=nodes[-2]\n",
        "    nodes = nodes[:-2]\n",
        "    node = NodeTree (key1, key2)\n",
        "    nodes.append((node,c1 + c2))\n",
        "    nodes = sorted (nodes, key=lambda x: x[1], reverse=True)"
      ],
      "metadata": {
        "id": "ZzkG-Hv_Q3cw"
      },
      "execution_count": null,
      "outputs": []
    },
    {
      "cell_type": "code",
      "source": [
        "huffmanCode=huffman_code_tree(nodes[0][0])\n",
        "print(' Char | Huffman code ') \n",
        "print('----------------------')\n",
        "for (char, frequency) in freq:\n",
        "    print('%-4r|%12s'%(char,huffmanCode[char]))"
      ],
      "metadata": {
        "colab": {
          "base_uri": "https://localhost:8080/"
        },
        "id": "5vD3KqgTRGFp",
        "outputId": "95dd5b58-1bf9-4a3a-fe99-f56703578ff8"
      },
      "execution_count": null,
      "outputs": [
        {
          "output_type": "stream",
          "name": "stdout",
          "text": [
            " Char | Huffman code \n",
            "----------------------\n",
            "'2' |          11\n",
            "'0' |         101\n",
            "'3' |         001\n",
            "'v' |        1000\n",
            "'i' |       10011\n",
            "'g' |       10010\n",
            "'n' |        0101\n",
            "'e' |        0100\n",
            "'s' |        0111\n",
            "'h' |        0110\n",
            "' ' |        0001\n",
            "'1' |        0000\n"
          ]
        }
      ]
    },
    {
      "cell_type": "code",
      "source": [],
      "metadata": {
        "id": "n7LYOvImRJH4"
      },
      "execution_count": null,
      "outputs": []
    }
  ]
}